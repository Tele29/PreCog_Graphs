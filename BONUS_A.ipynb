{
 "cells": [
  {
   "cell_type": "code",
   "execution_count": 72,
   "metadata": {},
   "outputs": [],
   "source": [
    "import csv\n",
    "import networkx as nx\n",
    "import matplotlib.pyplot as plt\n",
    "from concurrent.futures import ProcessPoolExecutor\n",
    "import numpy as np\n",
    "from cdlib import algorithms\n",
    "import igraph as ig\n",
    "from netgraph import Graph\n",
    "import networkx.algorithms.community as nxcom\n",
    "import random\n",
    "# Function to read node data from CSV file\n",
    "def draw_communities(graph, communities):\n",
    "    pos = nx.spring_layout(graph)  # You can use other layouts as well\n",
    "    \n",
    "    # Draw nodes and edges\n",
    "    nx.draw(graph, pos, with_labels=True, node_color='lightgray', edge_color='gray', font_size=8, node_size=300)\n",
    "    \n",
    "    # Iterate over communities\n",
    "    for idx, community in enumerate(communities):\n",
    "        nx.draw_networkx_nodes(graph, pos, nodelist=community, node_color=plt.cm.tab10.colors[idx], node_size=300)\n",
    "    \n",
    "    # Show the plot\n",
    "    plt.title(\"Graph with Communities\")\n",
    "    plt.show()\n",
    "def read_nodes(filename):\n",
    "    nodes = {}\n",
    "    with open(filename, 'r') as file:\n",
    "        reader = csv.reader(file)\n",
    "        for row in reader:\n",
    "            nodes[int(row[0])] = int(row[1])\n",
    "    return nodes\n",
    "\n",
    "# Function to read edge data from CSV file\n",
    "def read_edges(filename):\n",
    "    edges = []\n",
    "    with open(filename, 'r') as file:\n",
    "        reader = csv.reader(file)\n",
    "        for row in reader:\n",
    "            source, target, timestep = map(int, row)\n",
    "            edges.append((source, target, timestep))\n",
    "    return edges\n",
    "\n",
    "# Function to create a graph for a specific time step\n",
    "# def create_graph(timestep, nodes, edges):\n",
    "#     G = nx.DiGraph()\n",
    "#     for node, value in nodes.items():\n",
    "#         if value <= timestep:  # Add nodes based on the timestep\n",
    "#             G.add_node(node, value=value)\n",
    "#     for edge in edges:\n",
    "#         if edge[2] <= timestep:\n",
    "#             G.add_edge(edge[0], edge[1])\n",
    "#     # giant_component_size = len(max(nx.weakly_connected_components(G), key=len))\n",
    "#     return G\n",
    "def create_graph(timestep, nodes, edges):\n",
    "    G = nx.Graph()\n",
    "    \n",
    "    # Randomly sample nodes based on the sampling ratio\n",
    "   \n",
    "    for node, value in nodes.items():\n",
    "        if value <= timestep:  # Add nodes based on the timestep\n",
    "            G.add_node(node, value=value)\n",
    "    \n",
    "    for edge in edges:\n",
    "        if edge[2] <= timestep:\n",
    "            # Check if both nodes of the edge are present in the sampled nodes\n",
    "            if edge[0] in G.nodes() and edge[1] in G.nodes():\n",
    "                G.add_edge(edge[0], edge[1])\n",
    "    \n",
    "    # giant_component_size = len(max(nx.weakly_connected_components(G), key=len))\n",
    "    return G\n"
   ]
  },
  {
   "cell_type": "code",
   "execution_count": 73,
   "metadata": {},
   "outputs": [
    {
     "name": "stdout",
     "output_type": "stream",
     "text": [
      "Graph with 7337 nodes and 19480 edges\n"
     ]
    }
   ],
   "source": [
    "nodes = read_nodes('final_nodes_time.csv')\n",
    "edges = read_edges('final_edges_time.csv')\n",
    "G = create_graph(40, nodes, edges)\n",
    "print(nx.info(G))\n"
   ]
  },
  {
   "cell_type": "code",
   "execution_count": 74,
   "metadata": {},
   "outputs": [],
   "source": [
    "#TO ADD NEW NODES TO THE GRAPH:\n",
    "for node,value in nodes.items():\n",
    "    if value > 40 and value <= 43:\n",
    "        G.add_node(node, value=value)"
   ]
  },
  {
   "cell_type": "code",
   "execution_count": 75,
   "metadata": {},
   "outputs": [
    {
     "name": "stdout",
     "output_type": "stream",
     "text": [
      "Graph with 8145 nodes and 19480 edges\n"
     ]
    }
   ],
   "source": [
    "print(nx.info(G))   \n",
    "lol = G.nodes()"
   ]
  },
  {
   "cell_type": "code",
   "execution_count": 76,
   "metadata": {},
   "outputs": [
    {
     "name": "stdout",
     "output_type": "stream",
     "text": [
      "66293934\n"
     ]
    }
   ],
   "source": [
    "negetive_edges = []\n",
    "for u in lol:\n",
    "    for v in lol:\n",
    "        if u != v and not G.has_edge(u,v):\n",
    "            negetive_edges.append((u,v))\n",
    "print(len(negetive_edges))"
   ]
  },
  {
   "cell_type": "code",
   "execution_count": 77,
   "metadata": {},
   "outputs": [
    {
     "name": "stdout",
     "output_type": "stream",
     "text": [
      "5000\n"
     ]
    },
    {
     "data": {
      "text/plain": [
       "5000"
      ]
     },
     "execution_count": 77,
     "metadata": {},
     "output_type": "execute_result"
    }
   ],
   "source": [
    "negetive_edges = random.sample(negetive_edges, 5000)\n",
    "print(len(negetive_edges))\n",
    "data = []\n",
    "for i in negetive_edges:\n",
    "    data.append((i[0],i[1],0))\n",
    "len(data)"
   ]
  },
  {
   "cell_type": "code",
   "execution_count": 78,
   "metadata": {},
   "outputs": [
    {
     "name": "stdout",
     "output_type": "stream",
     "text": [
      "9618\n"
     ]
    }
   ],
   "source": [
    "for edge in edges:\n",
    "    if edge[2] <= 43 and edge[2] >40:\n",
    "        data.append((edge[0],edge[1],1))\n",
    "print(len(data))"
   ]
  },
  {
   "cell_type": "code",
   "execution_count": 79,
   "metadata": {},
   "outputs": [],
   "source": [
    "random.shuffle(data)"
   ]
  },
  {
   "cell_type": "code",
   "execution_count": 80,
   "metadata": {},
   "outputs": [
    {
     "name": "stderr",
     "output_type": "stream",
     "text": [
      "Computing transition probabilities: 100%|██████████| 8145/8145 [00:02<00:00, 3910.37it/s]\n",
      "Generating walks (CPU: 1): 100%|██████████| 50/50 [00:16<00:00,  3.09it/s]\n"
     ]
    }
   ],
   "source": [
    "from node2vec import Node2Vec\n",
    "\n",
    "# Generate walks\n",
    "node2vec = Node2Vec(G, dimensions=100, walk_length=16, num_walks=50)\n",
    "\n",
    "# train node2vec model\n",
    "n2w_model = node2vec.fit(window=7, min_count=1)\n"
   ]
  },
  {
   "cell_type": "code",
   "execution_count": 91,
   "metadata": {},
   "outputs": [
    {
     "name": "stdout",
     "output_type": "stream",
     "text": [
      "False\n"
     ]
    }
   ],
   "source": [
    "import pandas as pd\n",
    "# Convert list to DataFrame\n",
    "# df = pd.DataFrame(data, columns =['source', 'target', 'label'])\n",
    "n2w_model_dict = {}\n",
    "for node in G.nodes:\n",
    "    n2w_model_dict[str(node)] = n2w_model.wv[str(node)]\n",
    "print(int('9901206') in G.nodes)\n",
    "result = []\n",
    "for i, j, _ in data:\n",
    "    if(i in G.nodes and j in G.nodes):\n",
    "        result.append(n2w_model_dict[str(i)] + n2w_model_dict[str(j)])"
   ]
  },
  {
   "cell_type": "code",
   "execution_count": 92,
   "metadata": {},
   "outputs": [
    {
     "name": "stdout",
     "output_type": "stream",
     "text": [
      "9589\n"
     ]
    }
   ],
   "source": [
    "print(len(result))"
   ]
  },
  {
   "cell_type": "code",
   "execution_count": 95,
   "metadata": {},
   "outputs": [],
   "source": [
    "from sklearn.model_selection import train_test_split\n",
    "link = []\n",
    "for a,b,i in data:\n",
    "    if( a in G.nodes and b in G.nodes):\n",
    "        link.append(i)\n",
    "xtrain, xtest, ytrain, ytest = train_test_split(np.array(result), link, \n",
    "                                                test_size = 0.3, \n",
    "                                                random_state = 35)"
   ]
  },
  {
   "cell_type": "code",
   "execution_count": 98,
   "metadata": {},
   "outputs": [
    {
     "data": {
      "text/html": [
       "<style>#sk-container-id-1 {color: black;background-color: white;}#sk-container-id-1 pre{padding: 0;}#sk-container-id-1 div.sk-toggleable {background-color: white;}#sk-container-id-1 label.sk-toggleable__label {cursor: pointer;display: block;width: 100%;margin-bottom: 0;padding: 0.3em;box-sizing: border-box;text-align: center;}#sk-container-id-1 label.sk-toggleable__label-arrow:before {content: \"▸\";float: left;margin-right: 0.25em;color: #696969;}#sk-container-id-1 label.sk-toggleable__label-arrow:hover:before {color: black;}#sk-container-id-1 div.sk-estimator:hover label.sk-toggleable__label-arrow:before {color: black;}#sk-container-id-1 div.sk-toggleable__content {max-height: 0;max-width: 0;overflow: hidden;text-align: left;background-color: #f0f8ff;}#sk-container-id-1 div.sk-toggleable__content pre {margin: 0.2em;color: black;border-radius: 0.25em;background-color: #f0f8ff;}#sk-container-id-1 input.sk-toggleable__control:checked~div.sk-toggleable__content {max-height: 200px;max-width: 100%;overflow: auto;}#sk-container-id-1 input.sk-toggleable__control:checked~label.sk-toggleable__label-arrow:before {content: \"▾\";}#sk-container-id-1 div.sk-estimator input.sk-toggleable__control:checked~label.sk-toggleable__label {background-color: #d4ebff;}#sk-container-id-1 div.sk-label input.sk-toggleable__control:checked~label.sk-toggleable__label {background-color: #d4ebff;}#sk-container-id-1 input.sk-hidden--visually {border: 0;clip: rect(1px 1px 1px 1px);clip: rect(1px, 1px, 1px, 1px);height: 1px;margin: -1px;overflow: hidden;padding: 0;position: absolute;width: 1px;}#sk-container-id-1 div.sk-estimator {font-family: monospace;background-color: #f0f8ff;border: 1px dotted black;border-radius: 0.25em;box-sizing: border-box;margin-bottom: 0.5em;}#sk-container-id-1 div.sk-estimator:hover {background-color: #d4ebff;}#sk-container-id-1 div.sk-parallel-item::after {content: \"\";width: 100%;border-bottom: 1px solid gray;flex-grow: 1;}#sk-container-id-1 div.sk-label:hover label.sk-toggleable__label {background-color: #d4ebff;}#sk-container-id-1 div.sk-serial::before {content: \"\";position: absolute;border-left: 1px solid gray;box-sizing: border-box;top: 0;bottom: 0;left: 50%;z-index: 0;}#sk-container-id-1 div.sk-serial {display: flex;flex-direction: column;align-items: center;background-color: white;padding-right: 0.2em;padding-left: 0.2em;position: relative;}#sk-container-id-1 div.sk-item {position: relative;z-index: 1;}#sk-container-id-1 div.sk-parallel {display: flex;align-items: stretch;justify-content: center;background-color: white;position: relative;}#sk-container-id-1 div.sk-item::before, #sk-container-id-1 div.sk-parallel-item::before {content: \"\";position: absolute;border-left: 1px solid gray;box-sizing: border-box;top: 0;bottom: 0;left: 50%;z-index: -1;}#sk-container-id-1 div.sk-parallel-item {display: flex;flex-direction: column;z-index: 1;position: relative;background-color: white;}#sk-container-id-1 div.sk-parallel-item:first-child::after {align-self: flex-end;width: 50%;}#sk-container-id-1 div.sk-parallel-item:last-child::after {align-self: flex-start;width: 50%;}#sk-container-id-1 div.sk-parallel-item:only-child::after {width: 0;}#sk-container-id-1 div.sk-dashed-wrapped {border: 1px dashed gray;margin: 0 0.4em 0.5em 0.4em;box-sizing: border-box;padding-bottom: 0.4em;background-color: white;}#sk-container-id-1 div.sk-label label {font-family: monospace;font-weight: bold;display: inline-block;line-height: 1.2em;}#sk-container-id-1 div.sk-label-container {text-align: center;}#sk-container-id-1 div.sk-container {/* jupyter's `normalize.less` sets `[hidden] { display: none; }` but bootstrap.min.css set `[hidden] { display: none !important; }` so we also need the `!important` here to be able to override the default hidden behavior on the sphinx rendered scikit-learn.org. See: https://github.com/scikit-learn/scikit-learn/issues/21755 */display: inline-block !important;position: relative;}#sk-container-id-1 div.sk-text-repr-fallback {display: none;}</style><div id=\"sk-container-id-1\" class=\"sk-top-container\"><div class=\"sk-text-repr-fallback\"><pre>LogisticRegression(class_weight=&#x27;balanced&#x27;)</pre><b>In a Jupyter environment, please rerun this cell to show the HTML representation or trust the notebook. <br />On GitHub, the HTML representation is unable to render, please try loading this page with nbviewer.org.</b></div><div class=\"sk-container\" hidden><div class=\"sk-item\"><div class=\"sk-estimator sk-toggleable\"><input class=\"sk-toggleable__control sk-hidden--visually\" id=\"sk-estimator-id-1\" type=\"checkbox\" checked><label for=\"sk-estimator-id-1\" class=\"sk-toggleable__label sk-toggleable__label-arrow\">LogisticRegression</label><div class=\"sk-toggleable__content\"><pre>LogisticRegression(class_weight=&#x27;balanced&#x27;)</pre></div></div></div></div></div>"
      ],
      "text/plain": [
       "LogisticRegression(class_weight='balanced')"
      ]
     },
     "execution_count": 98,
     "metadata": {},
     "output_type": "execute_result"
    }
   ],
   "source": [
    "from sklearn.linear_model import LogisticRegression\n",
    "lr = LogisticRegression(class_weight=\"balanced\")\n",
    "\n",
    "lr.fit(xtrain, ytrain)"
   ]
  },
  {
   "cell_type": "code",
   "execution_count": 99,
   "metadata": {},
   "outputs": [],
   "source": [
    "predictions = lr.predict_proba(xtest)"
   ]
  },
  {
   "cell_type": "code",
   "execution_count": 114,
   "metadata": {},
   "outputs": [
    {
     "data": {
      "text/plain": [
       "0.7279715464697354"
      ]
     },
     "execution_count": 114,
     "metadata": {},
     "output_type": "execute_result"
    }
   ],
   "source": [
    "from sklearn.metrics import roc_auc_score\n",
    "from sklearn.metrics import classification_report\n",
    "# accuracy_node2vec = accuracy_score(ytest, predictions)\n",
    "roc_auc_score(ytest, predictions[:,1])\n"
   ]
  }
 ],
 "metadata": {
  "kernelspec": {
   "display_name": "Python 3",
   "language": "python",
   "name": "python3"
  },
  "language_info": {
   "codemirror_mode": {
    "name": "ipython",
    "version": 3
   },
   "file_extension": ".py",
   "mimetype": "text/x-python",
   "name": "python",
   "nbconvert_exporter": "python",
   "pygments_lexer": "ipython3",
   "version": "3.9.6"
  }
 },
 "nbformat": 4,
 "nbformat_minor": 2
}
